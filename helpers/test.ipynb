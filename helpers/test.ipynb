{
 "cells": [
  {
   "cell_type": "code",
   "execution_count": 1,
   "metadata": {},
   "outputs": [],
   "source": [
    "import pandas as pd\n",
    "import numpy as np"
   ]
  },
  {
   "cell_type": "code",
   "execution_count": 2,
   "metadata": {},
   "outputs": [],
   "source": [
    "df = pd.read_csv('../../data/raw-data/american_companies.csv')"
   ]
  },
  {
   "cell_type": "code",
   "execution_count": 3,
   "metadata": {},
   "outputs": [],
   "source": [
    "# find how many companies are there based on grouping by company_name\n",
    "company_count = df.groupby('company_name').size()"
   ]
  },
  {
   "cell_type": "code",
   "execution_count": 4,
   "metadata": {},
   "outputs": [
    {
     "data": {
      "text/plain": [
       "Index(['company_name', 'status_label', 'year', 'X1', 'X2', 'X3', 'X4', 'X5',\n",
       "       'X6', 'X7', 'X8', 'X9', 'X10', 'X11', 'X12', 'X13', 'X14', 'X15', 'X16',\n",
       "       'X17', 'X18'],\n",
       "      dtype='object')"
      ]
     },
     "execution_count": 4,
     "metadata": {},
     "output_type": "execute_result"
    }
   ],
   "source": [
    "df.columns"
   ]
  },
  {
   "cell_type": "code",
   "execution_count": 5,
   "metadata": {},
   "outputs": [
    {
     "data": {
      "text/plain": [
       "8971"
      ]
     },
     "execution_count": 5,
     "metadata": {},
     "output_type": "execute_result"
    }
   ],
   "source": [
    "\n",
    "company_count.size"
   ]
  },
  {
   "cell_type": "code",
   "execution_count": 6,
   "metadata": {},
   "outputs": [],
   "source": [
    "\n",
    "# Define industries with typical and probabilities\n",
    "industries = {\n",
    "    'Technology': 0.2,\n",
    "    'Finance': 0.15,\n",
    "    'Healthcare': 0.15,\n",
    "    'Retail': 0.27,\n",
    "    'Manufacturing': 0.23\n",
    "}\n",
    "\n",
    "industry_list = list(industries.keys())\n",
    "industry_probs = list(industries.values())\n",
    "\n",
    "# Define states with probabilities based on hypothetical business density\n",
    "states = [\n",
    "    'California', 'New York', 'Texas', 'Florida', 'Illinois',\n",
    "    'Washington', 'Georgia', 'Pennsylvania', 'Ohio', 'North Carolina'\n",
    "]\n",
    "state_probs = [0.20, 0.15, 0.13, 0.10, 0.08, 0.07, 0.06, 0.05, 0.09, 0.07]\n",
    "\n",
    "# Define company status with a realistic distribution\n",
    "company_statuses = ['Public', 'Private']\n",
    "status_probs = [0.17, 0.83]  # e.g., 10% public, 90% private\n",
    "\n",
    "# Random seed for reproducibility\n",
    "np.random.seed(33)\n",
    "\n",
    "# Assign random attributes with probabilities\n",
    "df['state'] = np.random.choice(states, size=len(df), p=state_probs)\n",
    "df['industry'] = np.random.choice(industry_list, size=len(df), p=industry_probs)\n",
    "df['company_status'] = np.random.choice(company_statuses, size=len(df), p=status_probs)\n"
   ]
  },
  {
   "cell_type": "code",
   "execution_count": 7,
   "metadata": {},
   "outputs": [],
   "source": [
    "# rename the column company_name to company_id\n",
    "df.rename(columns={'company_name': 'company_id'}, inplace=True)\n"
   ]
  },
  {
   "cell_type": "code",
   "execution_count": 8,
   "metadata": {},
   "outputs": [],
   "source": [
    "from faker import Faker\n",
    "\n",
    "\n",
    "# Set up Faker for generating company names\n",
    "fake = Faker()\n",
    "\n",
    "# Step 1: Get all unique company IDs from the DataFrame\n",
    "unique_companies = df['company_id'].unique()\n",
    "\n",
    "# Step 2: Generate a unique company name for each unique company ID\n",
    "# Ensure uniqueness by generating names in a loop\n",
    "company_names = {}\n",
    "for company_id in unique_companies:\n",
    "    new_name = fake.company()\n",
    "    while new_name in company_names.values():  # Ensure no duplicates across the entire dataset\n",
    "        new_name = fake.company()\n",
    "    company_names[company_id] = new_name\n",
    "\n",
    "# Step 3: Map the new names to the DataFrame using the company_id\n",
    "df['company_name'] = df['company_id'].map(company_names)\n"
   ]
  },
  {
   "cell_type": "code",
   "execution_count": 9,
   "metadata": {},
   "outputs": [
    {
     "name": "stdout",
     "output_type": "stream",
     "text": [
      "      company_id  year  year_founded\n",
      "35695     C_3592  2013          1997\n",
      "34364     C_3460  2005          1998\n",
      "11122      C_926  2012          1995\n",
      "53979     C_5736  2016          1998\n",
      "60165     C_6443  2005          1995\n",
      "55685     C_5939  2000          1995\n",
      "53583     C_5690  1999          1997\n",
      "20687     C_1739  2006          1997\n",
      "30366     C_2953  2003          1997\n",
      "28548     C_2626  2016          2012\n"
     ]
    }
   ],
   "source": [
    "# Step 1: Calculate the minimum year for each company\n",
    "min_year_by_company = df.groupby('company_id')['year'].min()\n",
    "\n",
    "# Step 2: Generate the \"year founded\" which is one year less than the minimum year found\n",
    "year_founded = min_year_by_company.apply(lambda x: x - np.random.randint(1, 5))  \n",
    "\n",
    "# Step 3: Map the \"year founded\" back to the original DataFrame\n",
    "df['year_founded'] = df['company_id'].map(year_founded)\n",
    "\n",
    "# Display the updated DataFrame to check the new 'year_founded' column\n",
    "print(df[['company_id', 'year', 'year_founded']].sample(10))"
   ]
  },
  {
   "cell_type": "code",
   "execution_count": 10,
   "metadata": {},
   "outputs": [
    {
     "name": "stdout",
     "output_type": "stream",
     "text": [
      "      company_id  year       date\n",
      "56687     C_6060  2001 2001-03-31\n",
      "2964       C_246  2014 2014-12-31\n",
      "38431     C_3952  2002 2002-03-31\n",
      "31057     C_3039  2005 2005-06-30\n",
      "75336     C_8354  2016 2016-03-31\n",
      "63878     C_6877  2002 2002-03-31\n",
      "59226     C_6343  1999 1999-09-30\n",
      "1380       C_110  2012 2012-09-30\n",
      "1609       C_130  2012 2012-09-30\n",
      "55659     C_5936  2000 2000-06-30\n"
     ]
    }
   ],
   "source": [
    "# Step 1: Define typical quarter-end dates\n",
    "quarter_ends = ['03-31', '06-30', '09-30', '12-31']\n",
    "\n",
    "# Step 2: Create a new 'date' column by appending a randomly chosen quarter-end date to the year\n",
    "df['date'] = df['year'].apply(lambda x: f\"{x}-{np.random.choice(quarter_ends)}\")\n",
    "\n",
    "# Convert the 'date' column to datetime format to ensure correct datatype\n",
    "df['date'] = pd.to_datetime(df['date'])\n",
    "\n",
    "# Display the updated DataFrame to verify the new 'date' column\n",
    "print(df[['company_id', 'year', 'date']].sample(10))\n"
   ]
  },
  {
   "cell_type": "code",
   "execution_count": 11,
   "metadata": {},
   "outputs": [
    {
     "data": {
      "text/plain": [
       "Index(['company_id', 'status_label', 'year', 'X1', 'X2', 'X3', 'X4', 'X5',\n",
       "       'X6', 'X7', 'X8', 'X9', 'X10', 'X11', 'X12', 'X13', 'X14', 'X15', 'X16',\n",
       "       'X17', 'X18', 'state', 'industry', 'company_status', 'company_name',\n",
       "       'year_founded', 'date'],\n",
       "      dtype='object')"
      ]
     },
     "execution_count": 11,
     "metadata": {},
     "output_type": "execute_result"
    }
   ],
   "source": [
    "df.columns"
   ]
  },
  {
   "cell_type": "code",
   "execution_count": 13,
   "metadata": {},
   "outputs": [
    {
     "data": {
      "text/html": [
       "<div>\n",
       "<style scoped>\n",
       "    .dataframe tbody tr th:only-of-type {\n",
       "        vertical-align: middle;\n",
       "    }\n",
       "\n",
       "    .dataframe tbody tr th {\n",
       "        vertical-align: top;\n",
       "    }\n",
       "\n",
       "    .dataframe thead th {\n",
       "        text-align: right;\n",
       "    }\n",
       "</style>\n",
       "<table border=\"1\" class=\"dataframe\">\n",
       "  <thead>\n",
       "    <tr style=\"text-align: right;\">\n",
       "      <th></th>\n",
       "      <th>company_id</th>\n",
       "      <th>status_label</th>\n",
       "      <th>year</th>\n",
       "      <th>current_assets</th>\n",
       "      <th>cost_of_goods_sold</th>\n",
       "      <th>depreciation_and_amortization</th>\n",
       "      <th>ebitda</th>\n",
       "      <th>inventory</th>\n",
       "      <th>net_income</th>\n",
       "      <th>total_receivables</th>\n",
       "      <th>...</th>\n",
       "      <th>retained_earnings</th>\n",
       "      <th>total_revenue</th>\n",
       "      <th>total_liabilities</th>\n",
       "      <th>total_operating_expenses</th>\n",
       "      <th>state</th>\n",
       "      <th>industry</th>\n",
       "      <th>company_status</th>\n",
       "      <th>company_name</th>\n",
       "      <th>year_founded</th>\n",
       "      <th>date</th>\n",
       "    </tr>\n",
       "  </thead>\n",
       "  <tbody>\n",
       "    <tr>\n",
       "      <th>49728</th>\n",
       "      <td>C_5251</td>\n",
       "      <td>alive</td>\n",
       "      <td>2006</td>\n",
       "      <td>31.832</td>\n",
       "      <td>26.604</td>\n",
       "      <td>2.668</td>\n",
       "      <td>-15.549</td>\n",
       "      <td>2.937</td>\n",
       "      <td>1.853</td>\n",
       "      <td>16.370</td>\n",
       "      <td>...</td>\n",
       "      <td>-0.144</td>\n",
       "      <td>59.050</td>\n",
       "      <td>31.754</td>\n",
       "      <td>50.663</td>\n",
       "      <td>Pennsylvania</td>\n",
       "      <td>Finance</td>\n",
       "      <td>Public</td>\n",
       "      <td>Rodriguez-Johnson</td>\n",
       "      <td>1997</td>\n",
       "      <td>2006-06-30</td>\n",
       "    </tr>\n",
       "    <tr>\n",
       "      <th>29406</th>\n",
       "      <td>C_2782</td>\n",
       "      <td>failed</td>\n",
       "      <td>2018</td>\n",
       "      <td>61.253</td>\n",
       "      <td>171.822</td>\n",
       "      <td>2.553</td>\n",
       "      <td>-332.363</td>\n",
       "      <td>0.515</td>\n",
       "      <td>-186.512</td>\n",
       "      <td>1.861</td>\n",
       "      <td>...</td>\n",
       "      <td>-559.350</td>\n",
       "      <td>8.728</td>\n",
       "      <td>88.577</td>\n",
       "      <td>171.822</td>\n",
       "      <td>New York</td>\n",
       "      <td>Technology</td>\n",
       "      <td>Private</td>\n",
       "      <td>Burns-King</td>\n",
       "      <td>2013</td>\n",
       "      <td>2018-09-30</td>\n",
       "    </tr>\n",
       "    <tr>\n",
       "      <th>4157</th>\n",
       "      <td>C_341</td>\n",
       "      <td>alive</td>\n",
       "      <td>2008</td>\n",
       "      <td>248.318</td>\n",
       "      <td>780.837</td>\n",
       "      <td>68.273</td>\n",
       "      <td>-566.179</td>\n",
       "      <td>65.497</td>\n",
       "      <td>9.091</td>\n",
       "      <td>116.293</td>\n",
       "      <td>...</td>\n",
       "      <td>21.148</td>\n",
       "      <td>1463.615</td>\n",
       "      <td>1189.066</td>\n",
       "      <td>1317.230</td>\n",
       "      <td>California</td>\n",
       "      <td>Finance</td>\n",
       "      <td>Private</td>\n",
       "      <td>Leblanc, Johnson and Anderson</td>\n",
       "      <td>1997</td>\n",
       "      <td>2008-03-31</td>\n",
       "    </tr>\n",
       "  </tbody>\n",
       "</table>\n",
       "<p>3 rows × 27 columns</p>\n",
       "</div>"
      ],
      "text/plain": [
       "      company_id status_label  year  current_assets  cost_of_goods_sold  \\\n",
       "49728     C_5251        alive  2006          31.832              26.604   \n",
       "29406     C_2782       failed  2018          61.253             171.822   \n",
       "4157       C_341        alive  2008         248.318             780.837   \n",
       "\n",
       "       depreciation_and_amortization   ebitda  inventory  net_income  \\\n",
       "49728                          2.668  -15.549      2.937       1.853   \n",
       "29406                          2.553 -332.363      0.515    -186.512   \n",
       "4157                          68.273 -566.179     65.497       9.091   \n",
       "\n",
       "       total_receivables  ...  retained_earnings  total_revenue  \\\n",
       "49728             16.370  ...             -0.144         59.050   \n",
       "29406              1.861  ...           -559.350          8.728   \n",
       "4157             116.293  ...             21.148       1463.615   \n",
       "\n",
       "       total_liabilities  total_operating_expenses         state    industry  \\\n",
       "49728             31.754                    50.663  Pennsylvania     Finance   \n",
       "29406             88.577                   171.822      New York  Technology   \n",
       "4157            1189.066                  1317.230    California     Finance   \n",
       "\n",
       "       company_status                   company_name  year_founded       date  \n",
       "49728          Public              Rodriguez-Johnson          1997 2006-06-30  \n",
       "29406         Private                     Burns-King          2013 2018-09-30  \n",
       "4157          Private  Leblanc, Johnson and Anderson          1997 2008-03-31  \n",
       "\n",
       "[3 rows x 27 columns]"
      ]
     },
     "execution_count": 13,
     "metadata": {},
     "output_type": "execute_result"
    }
   ],
   "source": [
    "df.sample(3)"
   ]
  },
  {
   "cell_type": "code",
   "execution_count": 12,
   "metadata": {},
   "outputs": [],
   "source": [
    "df.to_csv('../../data/raw-data/us_companies.csv', index=False)"
   ]
  }
 ],
 "metadata": {
  "kernelspec": {
   "display_name": "Python 3",
   "language": "python",
   "name": "python3"
  },
  "language_info": {
   "codemirror_mode": {
    "name": "ipython",
    "version": 3
   },
   "file_extension": ".py",
   "mimetype": "text/x-python",
   "name": "python",
   "nbconvert_exporter": "python",
   "pygments_lexer": "ipython3",
   "version": "3.12.4"
  }
 },
 "nbformat": 4,
 "nbformat_minor": 2
}
