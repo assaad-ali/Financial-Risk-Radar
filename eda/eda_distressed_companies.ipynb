{
 "cells": [
  {
   "cell_type": "code",
   "execution_count": 22,
   "metadata": {},
   "outputs": [],
   "source": [
    "import pandas as pd\n",
    "import numpy as np\n",
    "import seaborn as sns\n",
    "import matplotlib.pyplot as plt\n",
    "from sqlalchemy import create_engine\n",
    "import os\n",
    "from dotenv import load_dotenv"
   ]
  },
  {
   "cell_type": "code",
   "execution_count": null,
   "metadata": {},
   "outputs": [],
   "source": [
    "# Load environment variables from .env file\n",
    "load_dotenv()\n",
    "\n",
    "MYSQL_USERNAME = os.getenv('MYSQL_USERNAME')\n",
    "MYSQL_PASSWORD = os.getenv('MYSQL_PASSWORD')\n",
    "MYSQL_HOST = os.getenv('MYSQL_HOST')\n",
    "MYSQL_PORT = os.getenv('MYSQL_PORT')\n",
    "MYSQL_DB = os.getenv('STAGING_DB')\n",
    "\n",
    "# Construct the MySQL connection string\n",
    "if MYSQL_PASSWORD:\n",
    "    connection_string = f\"mysql+pymysql://{MYSQL_USERNAME}:{MYSQL_PASSWORD}@{MYSQL_HOST}:{MYSQL_PORT}/{MYSQL_DB}\"\n",
    "else:\n",
    "    connection_string = f\"mysql+pymysql://{MYSQL_USERNAME}@{MYSQL_HOST}:{MYSQL_PORT}/{MYSQL_DB}\"\n",
    "\n",
    "# Create a SQLAlchemy engine\n",
    "engine = create_engine(connection_string)\n",
    "print('Connection to MySQL database established successfully.')\n",
    "\n",
    "\n",
    "# Extract the data from the database\n",
    "query = \"SELECT * FROM distressed_companies_staging\"  \n",
    "df = pd.read_sql(query, con=engine)\n",
    "\n",
    "\n",
    "# Close the connection\n",
    "engine.dispose()\n",
    "\n",
    "# print(\"Data extraction completed successfully.\")\n"
   ]
  },
  {
   "cell_type": "code",
   "execution_count": 11,
   "metadata": {},
   "outputs": [],
   "source": [
    "distressed_companies = df.copy()"
   ]
  },
  {
   "cell_type": "code",
   "execution_count": 12,
   "metadata": {},
   "outputs": [
    {
     "data": {
      "text/html": [
       "<div>\n",
       "<style scoped>\n",
       "    .dataframe tbody tr th:only-of-type {\n",
       "        vertical-align: middle;\n",
       "    }\n",
       "\n",
       "    .dataframe tbody tr th {\n",
       "        vertical-align: top;\n",
       "    }\n",
       "\n",
       "    .dataframe thead th {\n",
       "        text-align: right;\n",
       "    }\n",
       "</style>\n",
       "<table border=\"1\" class=\"dataframe\">\n",
       "  <thead>\n",
       "    <tr style=\"text-align: right;\">\n",
       "      <th></th>\n",
       "      <th>date</th>\n",
       "      <th>industry</th>\n",
       "      <th>state</th>\n",
       "      <th>company_status</th>\n",
       "      <th>current_assets</th>\n",
       "      <th>cost_of_goods_sold</th>\n",
       "      <th>depreciation_and_amortization</th>\n",
       "      <th>ebitda</th>\n",
       "      <th>inventory</th>\n",
       "      <th>net_income</th>\n",
       "      <th>...</th>\n",
       "      <th>total_long_term_debt</th>\n",
       "      <th>ebit</th>\n",
       "      <th>gross_profit</th>\n",
       "      <th>total_current_liabilities</th>\n",
       "      <th>retained_earnings</th>\n",
       "      <th>total_revenue</th>\n",
       "      <th>total_liabilities</th>\n",
       "      <th>total_operating_expenses</th>\n",
       "      <th>size</th>\n",
       "      <th>age</th>\n",
       "    </tr>\n",
       "  </thead>\n",
       "  <tbody>\n",
       "    <tr>\n",
       "      <th>0</th>\n",
       "      <td>2009-05-10</td>\n",
       "      <td>Healthcare</td>\n",
       "      <td>Louisiana</td>\n",
       "      <td>Private</td>\n",
       "      <td>7.649278e+07</td>\n",
       "      <td>96302.427122</td>\n",
       "      <td>21472.980004</td>\n",
       "      <td>-363564.973374</td>\n",
       "      <td>4.155639e+07</td>\n",
       "      <td>-5.922221e+07</td>\n",
       "      <td>...</td>\n",
       "      <td>5.883717e+07</td>\n",
       "      <td>-385037.953378</td>\n",
       "      <td>189861.247359</td>\n",
       "      <td>1.626742e+07</td>\n",
       "      <td>-112723.973077</td>\n",
       "      <td>295836.697590</td>\n",
       "      <td>7.745970e+07</td>\n",
       "      <td>553426.220733</td>\n",
       "      <td>217</td>\n",
       "      <td>7</td>\n",
       "    </tr>\n",
       "    <tr>\n",
       "      <th>1</th>\n",
       "      <td>2010-07-18</td>\n",
       "      <td>Manufacturing</td>\n",
       "      <td>Louisiana</td>\n",
       "      <td>Public</td>\n",
       "      <td>2.155687e+07</td>\n",
       "      <td>529012.749192</td>\n",
       "      <td>13195.059522</td>\n",
       "      <td>-158423.596589</td>\n",
       "      <td>1.181854e+07</td>\n",
       "      <td>-1.782566e+07</td>\n",
       "      <td>...</td>\n",
       "      <td>1.765405e+07</td>\n",
       "      <td>-171618.656111</td>\n",
       "      <td>213009.475522</td>\n",
       "      <td>5.871258e+06</td>\n",
       "      <td>-338521.287752</td>\n",
       "      <td>724107.528873</td>\n",
       "      <td>2.206261e+07</td>\n",
       "      <td>371433.072111</td>\n",
       "      <td>853</td>\n",
       "      <td>13</td>\n",
       "    </tr>\n",
       "    <tr>\n",
       "      <th>2</th>\n",
       "      <td>2010-02-04</td>\n",
       "      <td>Finance</td>\n",
       "      <td>Michigan</td>\n",
       "      <td>Public</td>\n",
       "      <td>1.110231e+08</td>\n",
       "      <td>658635.137644</td>\n",
       "      <td>26149.446390</td>\n",
       "      <td>-285238.541779</td>\n",
       "      <td>4.342583e+07</td>\n",
       "      <td>-9.163494e+07</td>\n",
       "      <td>...</td>\n",
       "      <td>9.132355e+07</td>\n",
       "      <td>-311387.988169</td>\n",
       "      <td>28649.071658</td>\n",
       "      <td>1.797483e+07</td>\n",
       "      <td>-454566.746178</td>\n",
       "      <td>632903.815842</td>\n",
       "      <td>1.124992e+08</td>\n",
       "      <td>313887.613437</td>\n",
       "      <td>322</td>\n",
       "      <td>27</td>\n",
       "    </tr>\n",
       "    <tr>\n",
       "      <th>3</th>\n",
       "      <td>2009-12-31</td>\n",
       "      <td>Healthcare</td>\n",
       "      <td>Utah</td>\n",
       "      <td>Public</td>\n",
       "      <td>7.950367e+07</td>\n",
       "      <td>475588.573576</td>\n",
       "      <td>25096.830772</td>\n",
       "      <td>53932.138490</td>\n",
       "      <td>2.050060e+07</td>\n",
       "      <td>-5.058616e+07</td>\n",
       "      <td>...</td>\n",
       "      <td>5.061499e+07</td>\n",
       "      <td>28835.307718</td>\n",
       "      <td>411763.315757</td>\n",
       "      <td>3.319955e+07</td>\n",
       "      <td>-322799.310568</td>\n",
       "      <td>733728.275894</td>\n",
       "      <td>7.998275e+07</td>\n",
       "      <td>357831.177267</td>\n",
       "      <td>615</td>\n",
       "      <td>11</td>\n",
       "    </tr>\n",
       "    <tr>\n",
       "      <th>4</th>\n",
       "      <td>2011-06-27</td>\n",
       "      <td>Technology</td>\n",
       "      <td>Michigan</td>\n",
       "      <td>Public</td>\n",
       "      <td>6.981595e+07</td>\n",
       "      <td>408430.322764</td>\n",
       "      <td>28117.055716</td>\n",
       "      <td>-532596.874235</td>\n",
       "      <td>2.715339e+07</td>\n",
       "      <td>-7.597221e+07</td>\n",
       "      <td>...</td>\n",
       "      <td>7.541149e+07</td>\n",
       "      <td>-560713.929952</td>\n",
       "      <td>-45694.860272</td>\n",
       "      <td>3.875797e+07</td>\n",
       "      <td>-367996.744470</td>\n",
       "      <td>326854.810940</td>\n",
       "      <td>7.041005e+07</td>\n",
       "      <td>486902.013964</td>\n",
       "      <td>232</td>\n",
       "      <td>8</td>\n",
       "    </tr>\n",
       "  </tbody>\n",
       "</table>\n",
       "<p>5 rows × 24 columns</p>\n",
       "</div>"
      ],
      "text/plain": [
       "         date       industry      state company_status  current_assets  \\\n",
       "0  2009-05-10     Healthcare  Louisiana        Private    7.649278e+07   \n",
       "1  2010-07-18  Manufacturing  Louisiana         Public    2.155687e+07   \n",
       "2  2010-02-04        Finance   Michigan         Public    1.110231e+08   \n",
       "3  2009-12-31     Healthcare       Utah         Public    7.950367e+07   \n",
       "4  2011-06-27     Technology   Michigan         Public    6.981595e+07   \n",
       "\n",
       "   cost_of_goods_sold  depreciation_and_amortization         ebitda  \\\n",
       "0        96302.427122                   21472.980004 -363564.973374   \n",
       "1       529012.749192                   13195.059522 -158423.596589   \n",
       "2       658635.137644                   26149.446390 -285238.541779   \n",
       "3       475588.573576                   25096.830772   53932.138490   \n",
       "4       408430.322764                   28117.055716 -532596.874235   \n",
       "\n",
       "      inventory    net_income  ...  total_long_term_debt           ebit  \\\n",
       "0  4.155639e+07 -5.922221e+07  ...          5.883717e+07 -385037.953378   \n",
       "1  1.181854e+07 -1.782566e+07  ...          1.765405e+07 -171618.656111   \n",
       "2  4.342583e+07 -9.163494e+07  ...          9.132355e+07 -311387.988169   \n",
       "3  2.050060e+07 -5.058616e+07  ...          5.061499e+07   28835.307718   \n",
       "4  2.715339e+07 -7.597221e+07  ...          7.541149e+07 -560713.929952   \n",
       "\n",
       "    gross_profit  total_current_liabilities  retained_earnings  total_revenue  \\\n",
       "0  189861.247359               1.626742e+07     -112723.973077  295836.697590   \n",
       "1  213009.475522               5.871258e+06     -338521.287752  724107.528873   \n",
       "2   28649.071658               1.797483e+07     -454566.746178  632903.815842   \n",
       "3  411763.315757               3.319955e+07     -322799.310568  733728.275894   \n",
       "4  -45694.860272               3.875797e+07     -367996.744470  326854.810940   \n",
       "\n",
       "   total_liabilities  total_operating_expenses  size  age  \n",
       "0       7.745970e+07             553426.220733   217    7  \n",
       "1       2.206261e+07             371433.072111   853   13  \n",
       "2       1.124992e+08             313887.613437   322   27  \n",
       "3       7.998275e+07             357831.177267   615   11  \n",
       "4       7.041005e+07             486902.013964   232    8  \n",
       "\n",
       "[5 rows x 24 columns]"
      ]
     },
     "execution_count": 12,
     "metadata": {},
     "output_type": "execute_result"
    }
   ],
   "source": [
    "distressed_companies.head()"
   ]
  },
  {
   "cell_type": "code",
   "execution_count": 13,
   "metadata": {},
   "outputs": [],
   "source": [
    "distressed_companies.rename(columns={'Bankrupt?': 'Bankrupt'}, inplace=True)"
   ]
  },
  {
   "cell_type": "code",
   "execution_count": 14,
   "metadata": {},
   "outputs": [
    {
     "data": {
      "text/plain": [
       "(1000, 24)"
      ]
     },
     "execution_count": 14,
     "metadata": {},
     "output_type": "execute_result"
    }
   ],
   "source": [
    "distressed_companies.shape"
   ]
  },
  {
   "cell_type": "code",
   "execution_count": 15,
   "metadata": {},
   "outputs": [
    {
     "data": {
      "text/plain": [
       "date                        0\n",
       "industry                    0\n",
       "size                        0\n",
       "total_operating_expenses    0\n",
       "total_liabilities           0\n",
       "dtype: int64"
      ]
     },
     "execution_count": 15,
     "metadata": {},
     "output_type": "execute_result"
    }
   ],
   "source": [
    "distressed_companies.isnull().sum().sort_values(ascending=False).head()"
   ]
  },
  {
   "cell_type": "code",
   "execution_count": 16,
   "metadata": {},
   "outputs": [
    {
     "name": "stdout",
     "output_type": "stream",
     "text": [
      "['date', 'industry', 'state', 'company_status', 'current_assets', 'cost_of_goods_sold', 'depreciation_and_amortization', 'ebitda', 'inventory', 'net_income', 'total_receivables', 'market_value', 'net_sales', 'total_assets', 'total_long_term_debt', 'ebit', 'gross_profit', 'total_current_liabilities', 'retained_earnings', 'total_revenue', 'total_liabilities', 'total_operating_expenses', 'size', 'age']\n"
     ]
    }
   ],
   "source": [
    "print (distressed_companies.columns.tolist())"
   ]
  },
  {
   "cell_type": "code",
   "execution_count": 17,
   "metadata": {},
   "outputs": [
    {
     "name": "stdout",
     "output_type": "stream",
     "text": [
      "The number of rows within the dataset are 1000 and the number of columns is 24\n"
     ]
    }
   ],
   "source": [
    "distressed_companies.columns = [i.title().strip() for i in list(distressed_companies.columns)]\n",
    "\n",
    "rows = distressed_companies.shape[0]\n",
    "cols = distressed_companies.shape[1]\n",
    "print(f\"The number of rows within the dataset are {rows} and the number of columns is {cols}\")\n",
    "\n"
   ]
  },
  {
   "cell_type": "code",
   "execution_count": 18,
   "metadata": {},
   "outputs": [
    {
     "name": "stdout",
     "output_type": "stream",
     "text": [
      "Taiwan dataset data types count:\n",
      "\n",
      "float64    18\n",
      "object      4\n",
      "int64       2\n",
      "Name: count, dtype: int64\n"
     ]
    }
   ],
   "source": [
    "#print taiwain dataset data types count for each type\n",
    "print(f\"Distressed dataset data types count:\\n\\n{distressed_companies.dtypes.value_counts()}\")"
   ]
  },
  {
   "cell_type": "code",
   "execution_count": 19,
   "metadata": {},
   "outputs": [
    {
     "data": {
      "text/plain": [
       "['Size', 'Age']"
      ]
     },
     "execution_count": 19,
     "metadata": {},
     "output_type": "execute_result"
    }
   ],
   "source": [
    "categorical_features = distressed_companies.dtypes[distressed_companies.dtypes == 'int64'].index\n",
    "\n",
    "distressed_companies[categorical_features].columns.tolist()"
   ]
  },
  {
   "cell_type": "code",
   "execution_count": 20,
   "metadata": {},
   "outputs": [
    {
     "name": "stdout",
     "output_type": "stream",
     "text": [
      "['Date', 'Industry', 'State', 'Company_Status', 'Current_Assets', 'Cost_Of_Goods_Sold', 'Depreciation_And_Amortization', 'Ebitda', 'Inventory', 'Net_Income', 'Total_Receivables', 'Market_Value', 'Net_Sales', 'Total_Assets', 'Total_Long_Term_Debt', 'Ebit', 'Gross_Profit', 'Total_Current_Liabilities', 'Retained_Earnings', 'Total_Revenue', 'Total_Liabilities', 'Total_Operating_Expenses', 'Size', 'Age']\n"
     ]
    }
   ],
   "source": [
    "print(distressed_companies.columns.tolist() )"
   ]
  },
  {
   "cell_type": "code",
   "execution_count": null,
   "metadata": {},
   "outputs": [],
   "source": [
    "distressed_companies"
   ]
  },
  {
   "cell_type": "code",
   "execution_count": 24,
   "metadata": {},
   "outputs": [
    {
     "name": "stderr",
     "output_type": "stream",
     "text": [
      "/var/folders/3v/sz89_bh17fq9z4nh6lw9gs480000gn/T/ipykernel_98304/871976257.py:10: FutureWarning: \n",
      "\n",
      "Passing `palette` without assigning `hue` is deprecated and will be removed in v0.14.0. Assign the `x` variable to `hue` and set `legend=False` for the same effect.\n",
      "\n",
      "  sns.barplot(x=state_counts[0], y=state_counts[1], palette=\"viridis\")\n"
     ]
    },
    {
     "data": {
      "image/png": "[encoded data removed]",
      "text/plain": [
       "<Figure size 1000x600 with 1 Axes>"
      ]
     },
     "metadata": {},
     "output_type": "display_data"
    }
   ],
   "source": [
    "import matplotlib.pyplot as plt\n",
    "import seaborn as sns\n",
    "\n",
    "state = distressed_companies[\"State\"]\n",
    "\n",
    "state_counts = np.unique(state, return_counts=True)\n",
    "\n",
    "# Create a bar plot for state distribution\n",
    "plt.figure(figsize=(10, 6))\n",
    "sns.barplot(x=state_counts[0], y=state_counts[1], palette=\"viridis\")\n",
    "plt.title(\"Distribution of States in Generated Data\")\n",
    "plt.xlabel(\"States\")\n",
    "plt.ylabel(\"Count\")\n",
    "plt.xticks(rotation=45)\n",
    "plt.show()\n"
   ]
  },
  {
   "cell_type": "code",
   "execution_count": 15,
   "metadata": {},
   "outputs": [
    {
     "data": {
      "text/plain": [
       "Liability-Assets Flag\n",
       "0    6811\n",
       "1       8\n",
       "Name: count, dtype: int64"
      ]
     },
     "execution_count": 15,
     "metadata": {},
     "output_type": "execute_result"
    }
   ],
   "source": [
    "liability_assets_flag_counts = taiwan_data_copy['Liability-Assets Flag'].value_counts()\n",
    "liability_assets_flag_counts"
   ]
  },
  {
   "cell_type": "code",
   "execution_count": 16,
   "metadata": {},
   "outputs": [
    {
     "data": {
      "image/png": "[encoded data removed]",
      "text/plain": [
       "<Figure size 640x480 with 1 Axes>"
      ]
     },
     "metadata": {},
     "output_type": "display_data"
    }
   ],
   "source": [
    "bars = plt.bar(liability_assets_flag_counts.index, liability_assets_flag_counts.values, tick_label=['Solvent', 'Insolvent'])\n",
    "\n",
    "# Annotate the bars with their counts\n",
    "plt.bar_label(bars, labels=liability_assets_flag_counts.values)\n",
    "\n",
    "plt.xlabel('Solvency Status')\n",
    "plt.ylabel('Count')\n",
    "plt.title('Count of Solvency Status')\n",
    "plt.show()\n"
   ]
  },
  {
   "cell_type": "code",
   "execution_count": 17,
   "metadata": {},
   "outputs": [
    {
     "data": {
      "text/plain": [
       "Net Income Flag\n",
       "1    6819\n",
       "Name: count, dtype: int64"
      ]
     },
     "execution_count": 17,
     "metadata": {},
     "output_type": "execute_result"
    }
   ],
   "source": [
    "net_income_flag_counts =taiwan_data_copy['Net Income Flag'].value_counts()\n",
    "\n",
    "net_income_flag_counts"
   ]
  },
  {
   "cell_type": "code",
   "execution_count": 18,
   "metadata": {},
   "outputs": [
    {
     "data": {
      "text/plain": [
       "Bankrupt\n",
       "0    6599\n",
       "1     220\n",
       "Name: count, dtype: int64"
      ]
     },
     "execution_count": 18,
     "metadata": {},
     "output_type": "execute_result"
    }
   ],
   "source": [
    "# Count the occurrences of 0 and 1\n",
    "bankrupt_counts = taiwan_data_copy['Bankrupt'].value_counts()\n",
    "\n",
    "bankrupt_counts"
   ]
  }
 ],
 "metadata": {
  "kernelspec": {
   "display_name": "FSD2",
   "language": "python",
   "name": "python3"
  },
  "language_info": {
   "codemirror_mode": {
    "name": "ipython",
    "version": 3
   },
   "file_extension": ".py",
   "mimetype": "text/x-python",
   "name": "python",
   "nbconvert_exporter": "python",
   "pygments_lexer": "ipython3",
   "version": "3.12.4"
  }
 },
 "nbformat": 4,
 "nbformat_minor": 2
}
