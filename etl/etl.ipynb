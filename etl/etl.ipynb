{
 "cells": [
  {
   "cell_type": "code",
   "execution_count": 209,
   "metadata": {},
   "outputs": [],
   "source": [
    "from sqlalchemy import create_engine\n",
    "from sqlalchemy.types import Integer, String, Date, Numeric, DECIMAL\n",
    "import pandas as pd\n",
    "import numpy as np\n",
    "import os\n",
    "from dotenv import load_dotenv\n",
    "\n",
    "\n"
   ]
  },
  {
   "cell_type": "code",
   "execution_count": 210,
   "metadata": {},
   "outputs": [],
   "source": [
    "# Load environment variables from .env file\n",
    "load_dotenv()\n",
    "\n",
    "MYSQL_USERNAME = os.getenv('MYSQL_USERNAME')\n",
    "MYSQL_PASSWORD = os.getenv('MYSQL_PASSWORD')\n",
    "MYSQL_HOST = os.getenv('MYSQL_HOST')\n",
    "MYSQL_PORT = os.getenv('MYSQL_PORT')\n",
    "MYSQL_DB = os.getenv('STAGING_DB')\n",
    "\n",
    "#"
   ]
  },
  {
   "cell_type": "code",
   "execution_count": 211,
   "metadata": {},
   "outputs": [
    {
     "name": "stdout",
     "output_type": "stream",
     "text": [
      "Connection to MySQL database established successfully.\n"
     ]
    }
   ],
   "source": [
    "# Construct the MySQL connection string\n",
    "if MYSQL_PASSWORD:\n",
    "    connection_string = f\"mysql+pymysql://{MYSQL_USERNAME}:{MYSQL_PASSWORD}@{MYSQL_HOST}:{MYSQL_PORT}/{MYSQL_DB}\"\n",
    "else:\n",
    "    connection_string = f\"mysql+pymysql://{MYSQL_USERNAME}@{MYSQL_HOST}:{MYSQL_PORT}/{MYSQL_DB}\"\n",
    "\n",
    "# Create a SQLAlchemy engine\n",
    "engine = create_engine(connection_string)\n",
    "print('Connection to MySQL database established successfully.')\n"
   ]
  },
  {
   "cell_type": "code",
   "execution_count": 212,
   "metadata": {},
   "outputs": [],
   "source": [
    "query = \"SELECT * FROM distressed_companies_staging\"  \n",
    "df = pd.read_sql(query, con=engine)\n",
    "\n",
    "query = \"SELECT * FROM us_companies_staging\"  \n",
    "us_data = pd.read_sql(query, con=engine)\n",
    "\n",
    "\n",
    "query = \"SELECT * FROM companies_staging\"  \n",
    "companies =  = pd.read_sql(query, con=engine)\n",
    "\n",
    "# Extract the data from the database\n",
    "query = \"SELECT * FROM company_financials_staging\"  # Example query to extract all data\n",
    "us_companies_df = pd.read_sql(query, con=engine)\n",
    "\n",
    "# Close the connection\n",
    "engine.dispose()\n",
    "\n",
    "# print(\"Data extraction completed successfully.\")"
   ]
  },
  {
   "cell_type": "code",
   "execution_count": 213,
   "metadata": {},
   "outputs": [
    {
     "data": {
      "text/plain": [
       "(80839, 29)"
      ]
     },
     "execution_count": 213,
     "metadata": {},
     "output_type": "execute_result"
    }
   ],
   "source": [
    "us_companies_df.shape"
   ]
  },
  {
   "cell_type": "code",
   "execution_count": 214,
   "metadata": {},
   "outputs": [
    {
     "data": {
      "text/plain": [
       "Index(['company_id', 'date', 'industry', 'state', 'company_status',\n",
       "       'size_category', 'age', 'company_name', 'bankrupt', 'year_founded',\n",
       "       'total_revenue', 'net_sales', 'gross_profit', 'cost_of_goods_sold',\n",
       "       'total_operating_expenses', 'depreciation_and_amortization', 'ebit',\n",
       "       'ebitda', 'net_income', 'total_assets', 'total_liabilities', 'equity',\n",
       "       'current_assets', 'total_current_liabilities', 'inventory',\n",
       "       'total_receivables', 'retained_earnings', 'market_value',\n",
       "       'total_long_term_debt'],\n",
       "      dtype='object')"
      ]
     },
     "execution_count": 214,
     "metadata": {},
     "output_type": "execute_result"
    }
   ],
   "source": [
    "us_companies_df.columns"
   ]
  },
  {
   "cell_type": "code",
   "execution_count": 215,
   "metadata": {},
   "outputs": [],
   "source": [
    "us_companies_df.rename(columns={\n",
    "    'X1':'current_assets',\n",
    "    'X2':'cost_of_goods_sold',\n",
    "    'X3':'depreciation_and_amortization',\n",
    "    'X4':'ebitda',\n",
    "    'X5':'inventory',\n",
    "    'X6':'net_income',\n",
    "    'X7':'total_receivables',\n",
    "    'X8':'market_value',\n",
    "    'X9':'net_sales',\n",
    "    'X10':'total_assets',\n",
    "    'X11':'total_long_term_debt',\n",
    "    'X12':'ebit',\n",
    "    'X13':'gross_profit',\n",
    "    'X14':'total_current_liabilities',\n",
    "    'X15':'retained_earnings',\n",
    "    'X16':'total_revenue',\n",
    "    'X17':'total_liabilities',\n",
    "    'X18':'total_operating_expenses'}, inplace = True)"
   ]
  },
  {
   "cell_type": "code",
   "execution_count": 216,
   "metadata": {},
   "outputs": [],
   "source": [
    "# make a copy of the dataframe\n",
    "us_companies = us_companies_df.copy()"
   ]
  },
  {
   "cell_type": "markdown",
   "metadata": {},
   "source": [
    "#### standarize for consistency"
   ]
  },
  {
   "cell_type": "code",
   "execution_count": 217,
   "metadata": {},
   "outputs": [
    {
     "data": {
      "text/plain": [
       "bankrupt\n",
       "0    68701\n",
       "1    12138\n",
       "Name: count, dtype: int64"
      ]
     },
     "execution_count": 217,
     "metadata": {},
     "output_type": "execute_result"
    }
   ],
   "source": [
    "us_companies['bankrupt'].value_counts()"
   ]
  },
  {
   "cell_type": "code",
   "execution_count": 218,
   "metadata": {},
   "outputs": [],
   "source": [
    "\n",
    "us_companies.rename(columns={'status_label': 'bankrupt', 'company_status': 'ownership', 'year_founded': 'date_founded', 'size_category': 'size'}, inplace=True)\n"
   ]
  },
  {
   "cell_type": "code",
   "execution_count": 219,
   "metadata": {},
   "outputs": [],
   "source": [
    "# drop year column\n",
    "# us_companies.drop(columns=['year'], inplace=True)"
   ]
  },
  {
   "cell_type": "code",
   "execution_count": 220,
   "metadata": {},
   "outputs": [
    {
     "data": {
      "text/plain": [
       "bankrupt\n",
       "0    68701\n",
       "1    12138\n",
       "Name: count, dtype: int64"
      ]
     },
     "execution_count": 220,
     "metadata": {},
     "output_type": "execute_result"
    }
   ],
   "source": [
    "us_companies['bankrupt'].value_counts()"
   ]
  },
  {
   "cell_type": "code",
   "execution_count": 221,
   "metadata": {},
   "outputs": [],
   "source": [
    "# map distressd and healthy to the bankrupt column\n",
    "us_companies['bankrupt'] = us_companies['bankrupt'].map({1: 'Bankrupt', 0: 'Profitable'})"
   ]
  },
  {
   "cell_type": "code",
   "execution_count": 222,
   "metadata": {},
   "outputs": [
    {
     "data": {
      "text/plain": [
       "bankrupt\n",
       "Profitable    68701\n",
       "Bankrupt      12138\n",
       "Name: count, dtype: int64"
      ]
     },
     "execution_count": 222,
     "metadata": {},
     "output_type": "execute_result"
    }
   ],
   "source": [
    "us_companies['bankrupt'].value_counts()"
   ]
  },
  {
   "cell_type": "markdown",
   "metadata": {},
   "source": [
    "### Prepare DataFrames for Dimension Table"
   ]
  },
  {
   "cell_type": "markdown",
   "metadata": {},
   "source": [
    "##### Prepare Dim_State"
   ]
  },
  {
   "cell_type": "code",
   "execution_count": 223,
   "metadata": {},
   "outputs": [],
   "source": [
    "Dim_State = pd.DataFrame({\n",
    "    'state_name': us_companies['state'].unique()\n",
    "})\n",
    "Dim_State.index.name = 'state_id'\n",
    "# Dim_State.head\n",
    "# Dim_State.shape"
   ]
  },
  {
   "cell_type": "markdown",
   "metadata": {},
   "source": [
    "##### Prepare Dim_Industry"
   ]
  },
  {
   "cell_type": "code",
   "execution_count": 224,
   "metadata": {},
   "outputs": [],
   "source": [
    "\n",
    "\n",
    "Dim_Industry = pd.DataFrame({\n",
    "    'industry_name': us_companies['industry'].unique()\n",
    "})\n",
    "Dim_Industry.index.name = 'industry_id'\n",
    "# Dim_Industry.shape\n",
    "# Dim_Industry.head\n"
   ]
  },
  {
   "cell_type": "code",
   "execution_count": 225,
   "metadata": {},
   "outputs": [
    {
     "data": {
      "text/html": [
       "<div>\n",
       "<style scoped>\n",
       "    .dataframe tbody tr th:only-of-type {\n",
       "        vertical-align: middle;\n",
       "    }\n",
       "\n",
       "    .dataframe tbody tr th {\n",
       "        vertical-align: top;\n",
       "    }\n",
       "\n",
       "    .dataframe thead th {\n",
       "        text-align: right;\n",
       "    }\n",
       "</style>\n",
       "<table border=\"1\" class=\"dataframe\">\n",
       "  <thead>\n",
       "    <tr style=\"text-align: right;\">\n",
       "      <th></th>\n",
       "      <th>industry_name</th>\n",
       "    </tr>\n",
       "    <tr>\n",
       "      <th>industry_id</th>\n",
       "      <th></th>\n",
       "    </tr>\n",
       "  </thead>\n",
       "  <tbody>\n",
       "    <tr>\n",
       "      <th>0</th>\n",
       "      <td>Retail</td>\n",
       "    </tr>\n",
       "    <tr>\n",
       "      <th>1</th>\n",
       "      <td>Finance</td>\n",
       "    </tr>\n",
       "    <tr>\n",
       "      <th>2</th>\n",
       "      <td>Manufacturing</td>\n",
       "    </tr>\n",
       "    <tr>\n",
       "      <th>3</th>\n",
       "      <td>Healthcare</td>\n",
       "    </tr>\n",
       "    <tr>\n",
       "      <th>4</th>\n",
       "      <td>Technology</td>\n",
       "    </tr>\n",
       "  </tbody>\n",
       "</table>\n",
       "</div>"
      ],
      "text/plain": [
       "             industry_name\n",
       "industry_id               \n",
       "0                   Retail\n",
       "1                  Finance\n",
       "2            Manufacturing\n",
       "3               Healthcare\n",
       "4               Technology"
      ]
     },
     "execution_count": 225,
     "metadata": {},
     "output_type": "execute_result"
    }
   ],
   "source": [
    "Dim_Industry"
   ]
  },
  {
   "cell_type": "markdown",
   "metadata": {},
   "source": [
    "\n",
    "##### Prepare Dim_Date"
   ]
  },
  {
   "cell_type": "code",
   "execution_count": 226,
   "metadata": {},
   "outputs": [],
   "source": [
    "unique_dates = pd.to_datetime(us_companies['date']).dropna().unique()\n",
    "\n",
    "# Create Dim_Date using unique_dates\n",
    "Dim_Date = pd.DataFrame({\n",
    "    'date': unique_dates,\n",
    "    'year': [date.year for date in unique_dates],\n",
    "    'quarter': [date.quarter for date in unique_dates],\n",
    "    'month': [date.month for date in unique_dates],\n",
    "    'day': [date.day for date in unique_dates]\n",
    "})\n",
    "\n",
    "# Set an index name for SQL table consistency\n",
    "Dim_Date.index.name = 'date_id'\n",
    "\n",
    "# Dim_Date.head()\n",
    "# Dim_Date.shape"
   ]
  },
  {
   "cell_type": "markdown",
   "metadata": {},
   "source": [
    "##### Prepare Dim_Company"
   ]
  },
  {
   "cell_type": "code",
   "execution_count": 227,
   "metadata": {},
   "outputs": [],
   "source": [
    "# Include 'industry' and 'state' in the initial DataFrame creation\n",
    "# Dim_Company = us_companies[['company_id', 'company_name']].drop_duplicates().copy()"
   ]
  },
  {
   "cell_type": "code",
   "execution_count": 228,
   "metadata": {},
   "outputs": [],
   "source": [
    "\n",
    "# Include 'industry' and 'state' in the initial DataFrame creation\n",
    "Dim_Company = us_companies.drop_duplicates(subset=['company_id']).copy()\n",
    "\n",
    "Dim_Company = Dim_Company[['company_id', 'company_name', 'ownership', 'date', 'industry', 'state', 'bankrupt', 'size', 'age']].drop_duplicates().copy()\n",
    "\n",
    "# # Ensure that the Dim_Industry and Dim_State DataFrames have been reset and set indices as needed\n",
    "if 'industry_id' not in Dim_Industry.columns:\n",
    "    Dim_Industry.reset_index(inplace=True)\n",
    "if 'state_id' not in Dim_State.columns:\n",
    "    Dim_State.reset_index(inplace=True)\n",
    "\n",
    "# Create mappings for 'industry_id' and 'state_id'\n",
    "industry_map = Dim_Industry.set_index('industry_name')['industry_id'].to_dict()\n",
    "state_map = Dim_State.set_index('state_name')['state_id'].to_dict()\n",
    "\n",
    "# Map 'industry_id' and 'state_id' using the dictionaries\n",
    "Dim_Company['industry_id'] = Dim_Company['industry'].map(industry_map)\n",
    "Dim_Company['state_id'] = Dim_Company['state'].map(state_map)\n",
    "\n",
    "# Now it's safe to drop the 'industry' and 'state' columns\n",
    "Dim_Company.drop(['industry', 'state'], axis=1, inplace=True)\n",
    "\n",
    "# # Set 'company_id' as the index name if it's meant to be the primary key\n",
    "Dim_Company.index.name = 'id'\n",
    "\n",
    "# Dim_Company.sample(5)\n",
    "# Dim_Company.shape"
   ]
  },
  {
   "cell_type": "code",
   "execution_count": 229,
   "metadata": {},
   "outputs": [
    {
     "data": {
      "text/plain": [
       "(3000, 9)"
      ]
     },
     "execution_count": 229,
     "metadata": {},
     "output_type": "execute_result"
    }
   ],
   "source": [
    "Dim_Company.shape"
   ]
  },
  {
   "cell_type": "code",
   "execution_count": null,
   "metadata": {},
   "outputs": [],
   "source": []
  },
  {
   "cell_type": "markdown",
   "metadata": {},
   "source": [
    "##### Prepare Fact_Financial_Performance "
   ]
  },
  {
   "cell_type": "code",
   "execution_count": 230,
   "metadata": {},
   "outputs": [
    {
     "data": {
      "text/plain": [
       "Index(['company_id', 'date', 'industry', 'state', 'ownership', 'size', 'age',\n",
       "       'company_name', 'bankrupt', 'date_founded', 'total_revenue',\n",
       "       'net_sales', 'gross_profit', 'cost_of_goods_sold',\n",
       "       'total_operating_expenses', 'depreciation_and_amortization', 'ebit',\n",
       "       'ebitda', 'net_income', 'total_assets', 'total_liabilities', 'equity',\n",
       "       'current_assets', 'total_current_liabilities', 'inventory',\n",
       "       'total_receivables', 'retained_earnings', 'market_value',\n",
       "       'total_long_term_debt'],\n",
       "      dtype='object')"
      ]
     },
     "execution_count": 230,
     "metadata": {},
     "output_type": "execute_result"
    }
   ],
   "source": [
    "us_companies.columns"
   ]
  },
  {
   "cell_type": "code",
   "execution_count": 231,
   "metadata": {},
   "outputs": [
    {
     "data": {
      "text/html": [
       "<div>\n",
       "<style scoped>\n",
       "    .dataframe tbody tr th:only-of-type {\n",
       "        vertical-align: middle;\n",
       "    }\n",
       "\n",
       "    .dataframe tbody tr th {\n",
       "        vertical-align: top;\n",
       "    }\n",
       "\n",
       "    .dataframe thead th {\n",
       "        text-align: right;\n",
       "    }\n",
       "</style>\n",
       "<table border=\"1\" class=\"dataframe\">\n",
       "  <thead>\n",
       "    <tr style=\"text-align: right;\">\n",
       "      <th></th>\n",
       "      <th>company_id</th>\n",
       "      <th>date</th>\n",
       "      <th>industry</th>\n",
       "      <th>state</th>\n",
       "      <th>ownership</th>\n",
       "      <th>size</th>\n",
       "      <th>age</th>\n",
       "      <th>company_name</th>\n",
       "      <th>bankrupt</th>\n",
       "      <th>date_founded</th>\n",
       "      <th>...</th>\n",
       "      <th>total_liabilities</th>\n",
       "      <th>equity</th>\n",
       "      <th>current_assets</th>\n",
       "      <th>total_current_liabilities</th>\n",
       "      <th>inventory</th>\n",
       "      <th>total_receivables</th>\n",
       "      <th>retained_earnings</th>\n",
       "      <th>market_value</th>\n",
       "      <th>total_long_term_debt</th>\n",
       "      <th>date_id</th>\n",
       "    </tr>\n",
       "  </thead>\n",
       "  <tbody>\n",
       "    <tr>\n",
       "      <th>12808</th>\n",
       "      <td>475</td>\n",
       "      <td>2009-03-31</td>\n",
       "      <td>Retail</td>\n",
       "      <td>North Carolina</td>\n",
       "      <td>Private</td>\n",
       "      <td>Medium</td>\n",
       "      <td>10</td>\n",
       "      <td>Garner, Castro and May</td>\n",
       "      <td>Profitable</td>\n",
       "      <td>1987</td>\n",
       "      <td>...</td>\n",
       "      <td>4.950160e+06</td>\n",
       "      <td>4.896115e+06</td>\n",
       "      <td>5.624871e+06</td>\n",
       "      <td>1.596765e+06</td>\n",
       "      <td>1.769949e+06</td>\n",
       "      <td>2.390313e+06</td>\n",
       "      <td>1.840713e+07</td>\n",
       "      <td>5.395908e+06</td>\n",
       "      <td>3.353395e+06</td>\n",
       "      <td>76</td>\n",
       "    </tr>\n",
       "    <tr>\n",
       "      <th>40826</th>\n",
       "      <td>1508</td>\n",
       "      <td>2017-03-31</td>\n",
       "      <td>Finance</td>\n",
       "      <td>North Carolina</td>\n",
       "      <td>Private</td>\n",
       "      <td>Medium</td>\n",
       "      <td>8</td>\n",
       "      <td>Foster Ltd</td>\n",
       "      <td>Profitable</td>\n",
       "      <td>2003</td>\n",
       "      <td>...</td>\n",
       "      <td>4.570891e+07</td>\n",
       "      <td>3.119918e+07</td>\n",
       "      <td>5.094247e+07</td>\n",
       "      <td>2.483696e+07</td>\n",
       "      <td>5.463347e+07</td>\n",
       "      <td>5.455902e+07</td>\n",
       "      <td>3.830012e+08</td>\n",
       "      <td>3.431261e+07</td>\n",
       "      <td>2.087194e+07</td>\n",
       "      <td>14</td>\n",
       "    </tr>\n",
       "    <tr>\n",
       "      <th>77710</th>\n",
       "      <td>2883</td>\n",
       "      <td>2016-06-30</td>\n",
       "      <td>Finance</td>\n",
       "      <td>Ohio</td>\n",
       "      <td>Public</td>\n",
       "      <td>Large</td>\n",
       "      <td>14</td>\n",
       "      <td>Kelley, Davis and Jones</td>\n",
       "      <td>Profitable</td>\n",
       "      <td>1984</td>\n",
       "      <td>...</td>\n",
       "      <td>1.368490e+08</td>\n",
       "      <td>3.171196e+08</td>\n",
       "      <td>3.603348e+08</td>\n",
       "      <td>6.107303e+07</td>\n",
       "      <td>7.576025e+07</td>\n",
       "      <td>5.963429e+07</td>\n",
       "      <td>9.027831e+08</td>\n",
       "      <td>4.251990e+08</td>\n",
       "      <td>7.577602e+07</td>\n",
       "      <td>11</td>\n",
       "    </tr>\n",
       "    <tr>\n",
       "      <th>45488</th>\n",
       "      <td>1684</td>\n",
       "      <td>2014-06-30</td>\n",
       "      <td>Healthcare</td>\n",
       "      <td>Ohio</td>\n",
       "      <td>Private</td>\n",
       "      <td>Medium</td>\n",
       "      <td>14</td>\n",
       "      <td>Wolf-Salazar</td>\n",
       "      <td>Profitable</td>\n",
       "      <td>1986</td>\n",
       "      <td>...</td>\n",
       "      <td>1.265720e+07</td>\n",
       "      <td>1.536400e+07</td>\n",
       "      <td>1.989105e+07</td>\n",
       "      <td>6.868087e+06</td>\n",
       "      <td>5.390685e+06</td>\n",
       "      <td>6.593137e+06</td>\n",
       "      <td>4.593099e+07</td>\n",
       "      <td>1.799897e+07</td>\n",
       "      <td>5.789113e+06</td>\n",
       "      <td>3</td>\n",
       "    </tr>\n",
       "    <tr>\n",
       "      <th>41823</th>\n",
       "      <td>1546</td>\n",
       "      <td>2011-03-31</td>\n",
       "      <td>Manufacturing</td>\n",
       "      <td>Illinois</td>\n",
       "      <td>Public</td>\n",
       "      <td>Medium</td>\n",
       "      <td>5</td>\n",
       "      <td>Roth, Murray and Ruiz</td>\n",
       "      <td>Profitable</td>\n",
       "      <td>1979</td>\n",
       "      <td>...</td>\n",
       "      <td>4.949793e+07</td>\n",
       "      <td>4.053855e+07</td>\n",
       "      <td>6.657190e+07</td>\n",
       "      <td>2.969387e+07</td>\n",
       "      <td>4.577748e+06</td>\n",
       "      <td>3.940812e+06</td>\n",
       "      <td>-4.107274e+06</td>\n",
       "      <td>5.112704e+07</td>\n",
       "      <td>1.980406e+07</td>\n",
       "      <td>84</td>\n",
       "    </tr>\n",
       "  </tbody>\n",
       "</table>\n",
       "<p>5 rows × 30 columns</p>\n",
       "</div>"
      ],
      "text/plain": [
       "       company_id       date       industry           state ownership    size  \\\n",
       "12808         475 2009-03-31         Retail  North Carolina   Private  Medium   \n",
       "40826        1508 2017-03-31        Finance  North Carolina   Private  Medium   \n",
       "77710        2883 2016-06-30        Finance            Ohio    Public   Large   \n",
       "45488        1684 2014-06-30     Healthcare            Ohio   Private  Medium   \n",
       "41823        1546 2011-03-31  Manufacturing        Illinois    Public  Medium   \n",
       "\n",
       "       age             company_name    bankrupt  date_founded  ...  \\\n",
       "12808   10   Garner, Castro and May  Profitable          1987  ...   \n",
       "40826    8               Foster Ltd  Profitable          2003  ...   \n",
       "77710   14  Kelley, Davis and Jones  Profitable          1984  ...   \n",
       "45488   14             Wolf-Salazar  Profitable          1986  ...   \n",
       "41823    5    Roth, Murray and Ruiz  Profitable          1979  ...   \n",
       "\n",
       "       total_liabilities        equity  current_assets  \\\n",
       "12808       4.950160e+06  4.896115e+06    5.624871e+06   \n",
       "40826       4.570891e+07  3.119918e+07    5.094247e+07   \n",
       "77710       1.368490e+08  3.171196e+08    3.603348e+08   \n",
       "45488       1.265720e+07  1.536400e+07    1.989105e+07   \n",
       "41823       4.949793e+07  4.053855e+07    6.657190e+07   \n",
       "\n",
       "       total_current_liabilities     inventory  total_receivables  \\\n",
       "12808               1.596765e+06  1.769949e+06       2.390313e+06   \n",
       "40826               2.483696e+07  5.463347e+07       5.455902e+07   \n",
       "77710               6.107303e+07  7.576025e+07       5.963429e+07   \n",
       "45488               6.868087e+06  5.390685e+06       6.593137e+06   \n",
       "41823               2.969387e+07  4.577748e+06       3.940812e+06   \n",
       "\n",
       "       retained_earnings  market_value  total_long_term_debt  date_id  \n",
       "12808       1.840713e+07  5.395908e+06          3.353395e+06       76  \n",
       "40826       3.830012e+08  3.431261e+07          2.087194e+07       14  \n",
       "77710       9.027831e+08  4.251990e+08          7.577602e+07       11  \n",
       "45488       4.593099e+07  1.799897e+07          5.789113e+06        3  \n",
       "41823      -4.107274e+06  5.112704e+07          1.980406e+07       84  \n",
       "\n",
       "[5 rows x 30 columns]"
      ]
     },
     "execution_count": 231,
     "metadata": {},
     "output_type": "execute_result"
    }
   ],
   "source": [
    "# Ensure that 'date_id' and 'company_id' are correctly mapped in Fact_Financial_Performance\n",
    "Fact_Financial_Performance = us_companies.copy()\n",
    "\n",
    "# Ensure the date format is consistent\n",
    "Fact_Financial_Performance['date'] = pd.to_datetime(Fact_Financial_Performance['date'], errors='coerce')\n",
    "\n",
    "# Map 'date_id' by ensuring the data types match\n",
    "Dim_Date.reset_index(inplace=True)  # Reset index to access 'date_id'\n",
    "Fact_Financial_Performance['date_id'] = Fact_Financial_Performance['date'].map(\n",
    "    Dim_Date.set_index('date')['date_id']\n",
    ")\n",
    "\n",
    "\n",
    "\n",
    "# Check if the mappings worked correctly (No missing values)\n",
    "if Fact_Financial_Performance[['company_id', 'date_id']].isnull().any().any():\n",
    "    print(\"Warning: Missing values in 'company_id' or 'date_id' mapping!\")\n",
    "\n",
    "# Final structure\n",
    "Fact_Financial_Performance.sample(5)\n"
   ]
  },
  {
   "cell_type": "markdown",
   "metadata": {},
   "source": []
  },
  {
   "cell_type": "code",
   "execution_count": 232,
   "metadata": {},
   "outputs": [
    {
     "data": {
      "text/html": [
       "<div>\n",
       "<style scoped>\n",
       "    .dataframe tbody tr th:only-of-type {\n",
       "        vertical-align: middle;\n",
       "    }\n",
       "\n",
       "    .dataframe tbody tr th {\n",
       "        vertical-align: top;\n",
       "    }\n",
       "\n",
       "    .dataframe thead th {\n",
       "        text-align: right;\n",
       "    }\n",
       "</style>\n",
       "<table border=\"1\" class=\"dataframe\">\n",
       "  <thead>\n",
       "    <tr style=\"text-align: right;\">\n",
       "      <th></th>\n",
       "      <th>company_id</th>\n",
       "      <th>date</th>\n",
       "      <th>industry</th>\n",
       "      <th>state</th>\n",
       "      <th>ownership</th>\n",
       "      <th>size</th>\n",
       "      <th>age</th>\n",
       "      <th>company_name</th>\n",
       "      <th>bankrupt</th>\n",
       "      <th>date_founded</th>\n",
       "      <th>...</th>\n",
       "      <th>total_liabilities</th>\n",
       "      <th>equity</th>\n",
       "      <th>current_assets</th>\n",
       "      <th>total_current_liabilities</th>\n",
       "      <th>inventory</th>\n",
       "      <th>total_receivables</th>\n",
       "      <th>retained_earnings</th>\n",
       "      <th>market_value</th>\n",
       "      <th>total_long_term_debt</th>\n",
       "      <th>date_id</th>\n",
       "    </tr>\n",
       "  </thead>\n",
       "  <tbody>\n",
       "    <tr>\n",
       "      <th>60636</th>\n",
       "      <td>2246</td>\n",
       "      <td>2014-09-30</td>\n",
       "      <td>Manufacturing</td>\n",
       "      <td>Georgia</td>\n",
       "      <td>Private</td>\n",
       "      <td>Small</td>\n",
       "      <td>3</td>\n",
       "      <td>Rogers, Miller and Young</td>\n",
       "      <td>Profitable</td>\n",
       "      <td>2001</td>\n",
       "      <td>...</td>\n",
       "      <td>4.191496e+06</td>\n",
       "      <td>3.090925e+06</td>\n",
       "      <td>4.951701e+06</td>\n",
       "      <td>1.330103e+06</td>\n",
       "      <td>3.864926e+06</td>\n",
       "      <td>3.519676e+06</td>\n",
       "      <td>2.470852e+07</td>\n",
       "      <td>4.386372e+06</td>\n",
       "      <td>2.861393e+06</td>\n",
       "      <td>4</td>\n",
       "    </tr>\n",
       "    <tr>\n",
       "      <th>4804</th>\n",
       "      <td>177</td>\n",
       "      <td>2013-03-31</td>\n",
       "      <td>Finance</td>\n",
       "      <td>Georgia</td>\n",
       "      <td>Public</td>\n",
       "      <td>Medium</td>\n",
       "      <td>11</td>\n",
       "      <td>Nelson-Mcgrath</td>\n",
       "      <td>Profitable</td>\n",
       "      <td>1983</td>\n",
       "      <td>...</td>\n",
       "      <td>3.886911e+07</td>\n",
       "      <td>4.510774e+07</td>\n",
       "      <td>5.349719e+07</td>\n",
       "      <td>1.835345e+07</td>\n",
       "      <td>1.268180e+07</td>\n",
       "      <td>8.797833e+06</td>\n",
       "      <td>5.515661e+07</td>\n",
       "      <td>6.158754e+07</td>\n",
       "      <td>2.051566e+07</td>\n",
       "      <td>53</td>\n",
       "    </tr>\n",
       "  </tbody>\n",
       "</table>\n",
       "<p>2 rows × 30 columns</p>\n",
       "</div>"
      ],
      "text/plain": [
       "       company_id       date       industry    state ownership    size  age  \\\n",
       "60636        2246 2014-09-30  Manufacturing  Georgia   Private   Small    3   \n",
       "4804          177 2013-03-31        Finance  Georgia    Public  Medium   11   \n",
       "\n",
       "                   company_name    bankrupt  date_founded  ...  \\\n",
       "60636  Rogers, Miller and Young  Profitable          2001  ...   \n",
       "4804             Nelson-Mcgrath  Profitable          1983  ...   \n",
       "\n",
       "       total_liabilities        equity  current_assets  \\\n",
       "60636       4.191496e+06  3.090925e+06    4.951701e+06   \n",
       "4804        3.886911e+07  4.510774e+07    5.349719e+07   \n",
       "\n",
       "       total_current_liabilities     inventory  total_receivables  \\\n",
       "60636               1.330103e+06  3.864926e+06       3.519676e+06   \n",
       "4804                1.835345e+07  1.268180e+07       8.797833e+06   \n",
       "\n",
       "       retained_earnings  market_value  total_long_term_debt  date_id  \n",
       "60636       2.470852e+07  4.386372e+06          2.861393e+06        4  \n",
       "4804        5.515661e+07  6.158754e+07          2.051566e+07       53  \n",
       "\n",
       "[2 rows x 30 columns]"
      ]
     },
     "execution_count": 232,
     "metadata": {},
     "output_type": "execute_result"
    }
   ],
   "source": [
    "Fact_Financial_Performance.sample(2)\n"
   ]
  },
  {
   "cell_type": "markdown",
   "metadata": {},
   "source": []
  },
  {
   "cell_type": "code",
   "execution_count": 233,
   "metadata": {},
   "outputs": [
    {
     "data": {
      "text/html": [
       "<div>\n",
       "<style scoped>\n",
       "    .dataframe tbody tr th:only-of-type {\n",
       "        vertical-align: middle;\n",
       "    }\n",
       "\n",
       "    .dataframe tbody tr th {\n",
       "        vertical-align: top;\n",
       "    }\n",
       "\n",
       "    .dataframe thead th {\n",
       "        text-align: right;\n",
       "    }\n",
       "</style>\n",
       "<table border=\"1\" class=\"dataframe\">\n",
       "  <thead>\n",
       "    <tr style=\"text-align: right;\">\n",
       "      <th></th>\n",
       "      <th>company_id</th>\n",
       "      <th>size</th>\n",
       "      <th>total_revenue</th>\n",
       "      <th>net_sales</th>\n",
       "      <th>gross_profit</th>\n",
       "      <th>cost_of_goods_sold</th>\n",
       "      <th>total_operating_expenses</th>\n",
       "      <th>depreciation_and_amortization</th>\n",
       "      <th>ebit</th>\n",
       "      <th>ebitda</th>\n",
       "      <th>...</th>\n",
       "      <th>net_profit_margin</th>\n",
       "      <th>return_on_assets</th>\n",
       "      <th>return_on_equity</th>\n",
       "      <th>price_to_earnings</th>\n",
       "      <th>price_to_sales</th>\n",
       "      <th>equity_multiplier</th>\n",
       "      <th>retention_ratio</th>\n",
       "      <th>revenue_growth</th>\n",
       "      <th>profit_growth</th>\n",
       "      <th>record_id</th>\n",
       "    </tr>\n",
       "  </thead>\n",
       "  <tbody>\n",
       "    <tr>\n",
       "      <th>71740</th>\n",
       "      <td>2661</td>\n",
       "      <td>Medium</td>\n",
       "      <td>3.617607e+07</td>\n",
       "      <td>3.617607e+07</td>\n",
       "      <td>2.826200e+07</td>\n",
       "      <td>7.914066e+06</td>\n",
       "      <td>1.912328e+07</td>\n",
       "      <td>1.704743e+06</td>\n",
       "      <td>7.433979e+06</td>\n",
       "      <td>9.138722e+06</td>\n",
       "      <td>...</td>\n",
       "      <td>0.143626</td>\n",
       "      <td>0.123158</td>\n",
       "      <td>0.256316</td>\n",
       "      <td>5.832405</td>\n",
       "      <td>0.837687</td>\n",
       "      <td>2.081199</td>\n",
       "      <td>13.423458</td>\n",
       "      <td>-2.301008</td>\n",
       "      <td>-79.296007</td>\n",
       "      <td>71741</td>\n",
       "    </tr>\n",
       "    <tr>\n",
       "      <th>48683</th>\n",
       "      <td>1804</td>\n",
       "      <td>Medium</td>\n",
       "      <td>3.324716e+07</td>\n",
       "      <td>3.324716e+07</td>\n",
       "      <td>2.357190e+07</td>\n",
       "      <td>9.675259e+06</td>\n",
       "      <td>9.931007e+06</td>\n",
       "      <td>7.779447e+05</td>\n",
       "      <td>1.286294e+07</td>\n",
       "      <td>1.364089e+07</td>\n",
       "      <td>...</td>\n",
       "      <td>0.286910</td>\n",
       "      <td>0.443296</td>\n",
       "      <td>0.856888</td>\n",
       "      <td>1.257805</td>\n",
       "      <td>0.360877</td>\n",
       "      <td>1.932992</td>\n",
       "      <td>6.179429</td>\n",
       "      <td>12.555730</td>\n",
       "      <td>22.132507</td>\n",
       "      <td>48684</td>\n",
       "    </tr>\n",
       "    <tr>\n",
       "      <th>21069</th>\n",
       "      <td>781</td>\n",
       "      <td>Small</td>\n",
       "      <td>1.750000e+07</td>\n",
       "      <td>1.750000e+07</td>\n",
       "      <td>6.914688e+06</td>\n",
       "      <td>1.058531e+07</td>\n",
       "      <td>1.314799e+07</td>\n",
       "      <td>7.022128e+05</td>\n",
       "      <td>-6.935512e+06</td>\n",
       "      <td>0.000000e+00</td>\n",
       "      <td>...</td>\n",
       "      <td>-0.410829</td>\n",
       "      <td>-1.101451</td>\n",
       "      <td>-2.330634</td>\n",
       "      <td>-0.479757</td>\n",
       "      <td>0.197098</td>\n",
       "      <td>2.115968</td>\n",
       "      <td>0.749613</td>\n",
       "      <td>-2.349694</td>\n",
       "      <td>-17.726106</td>\n",
       "      <td>21070</td>\n",
       "    </tr>\n",
       "    <tr>\n",
       "      <th>71560</th>\n",
       "      <td>2655</td>\n",
       "      <td>Medium</td>\n",
       "      <td>1.203233e+08</td>\n",
       "      <td>1.203233e+08</td>\n",
       "      <td>7.940896e+07</td>\n",
       "      <td>4.091435e+07</td>\n",
       "      <td>2.265470e+07</td>\n",
       "      <td>5.151304e+06</td>\n",
       "      <td>5.160296e+07</td>\n",
       "      <td>5.675426e+07</td>\n",
       "      <td>...</td>\n",
       "      <td>0.325875</td>\n",
       "      <td>0.456740</td>\n",
       "      <td>0.672444</td>\n",
       "      <td>1.591251</td>\n",
       "      <td>0.518548</td>\n",
       "      <td>1.472270</td>\n",
       "      <td>3.122891</td>\n",
       "      <td>41.106145</td>\n",
       "      <td>-171.200686</td>\n",
       "      <td>71566</td>\n",
       "    </tr>\n",
       "    <tr>\n",
       "      <th>79726</th>\n",
       "      <td>2961</td>\n",
       "      <td>Small</td>\n",
       "      <td>5.658447e+06</td>\n",
       "      <td>5.658447e+06</td>\n",
       "      <td>3.592008e+06</td>\n",
       "      <td>2.066439e+06</td>\n",
       "      <td>2.051381e+06</td>\n",
       "      <td>2.521094e+05</td>\n",
       "      <td>1.288517e+06</td>\n",
       "      <td>1.540627e+06</td>\n",
       "      <td>...</td>\n",
       "      <td>0.162621</td>\n",
       "      <td>0.274128</td>\n",
       "      <td>0.462677</td>\n",
       "      <td>2.252906</td>\n",
       "      <td>0.366369</td>\n",
       "      <td>1.687813</td>\n",
       "      <td>4.902615</td>\n",
       "      <td>7.839942</td>\n",
       "      <td>-39.270315</td>\n",
       "      <td>79727</td>\n",
       "    </tr>\n",
       "  </tbody>\n",
       "</table>\n",
       "<p>5 rows × 38 columns</p>\n",
       "</div>"
      ],
      "text/plain": [
       "       company_id    size  total_revenue     net_sales  gross_profit  \\\n",
       "71740        2661  Medium   3.617607e+07  3.617607e+07  2.826200e+07   \n",
       "48683        1804  Medium   3.324716e+07  3.324716e+07  2.357190e+07   \n",
       "21069         781   Small   1.750000e+07  1.750000e+07  6.914688e+06   \n",
       "71560        2655  Medium   1.203233e+08  1.203233e+08  7.940896e+07   \n",
       "79726        2961   Small   5.658447e+06  5.658447e+06  3.592008e+06   \n",
       "\n",
       "       cost_of_goods_sold  total_operating_expenses  \\\n",
       "71740        7.914066e+06              1.912328e+07   \n",
       "48683        9.675259e+06              9.931007e+06   \n",
       "21069        1.058531e+07              1.314799e+07   \n",
       "71560        4.091435e+07              2.265470e+07   \n",
       "79726        2.066439e+06              2.051381e+06   \n",
       "\n",
       "       depreciation_and_amortization          ebit        ebitda  ...  \\\n",
       "71740                   1.704743e+06  7.433979e+06  9.138722e+06  ...   \n",
       "48683                   7.779447e+05  1.286294e+07  1.364089e+07  ...   \n",
       "21069                   7.022128e+05 -6.935512e+06  0.000000e+00  ...   \n",
       "71560                   5.151304e+06  5.160296e+07  5.675426e+07  ...   \n",
       "79726                   2.521094e+05  1.288517e+06  1.540627e+06  ...   \n",
       "\n",
       "       net_profit_margin  return_on_assets  return_on_equity  \\\n",
       "71740           0.143626          0.123158          0.256316   \n",
       "48683           0.286910          0.443296          0.856888   \n",
       "21069          -0.410829         -1.101451         -2.330634   \n",
       "71560           0.325875          0.456740          0.672444   \n",
       "79726           0.162621          0.274128          0.462677   \n",
       "\n",
       "       price_to_earnings  price_to_sales  equity_multiplier  retention_ratio  \\\n",
       "71740           5.832405        0.837687           2.081199        13.423458   \n",
       "48683           1.257805        0.360877           1.932992         6.179429   \n",
       "21069          -0.479757        0.197098           2.115968         0.749613   \n",
       "71560           1.591251        0.518548           1.472270         3.122891   \n",
       "79726           2.252906        0.366369           1.687813         4.902615   \n",
       "\n",
       "       revenue_growth  profit_growth  record_id  \n",
       "71740       -2.301008     -79.296007      71741  \n",
       "48683       12.555730      22.132507      48684  \n",
       "21069       -2.349694     -17.726106      21070  \n",
       "71560       41.106145    -171.200686      71566  \n",
       "79726        7.839942     -39.270315      79727  \n",
       "\n",
       "[5 rows x 38 columns]"
      ]
     },
     "execution_count": 233,
     "metadata": {},
     "output_type": "execute_result"
    }
   ],
   "source": [
    "# Calculating the KPIs\n",
    "Fact_Financial_Performance['current_ratio'] = Fact_Financial_Performance['current_assets'] / Fact_Financial_Performance['total_current_liabilities']\n",
    "Fact_Financial_Performance['quick_ratio'] = (Fact_Financial_Performance['current_assets'] - Fact_Financial_Performance['inventory']) / Fact_Financial_Performance['total_current_liabilities']\n",
    "Fact_Financial_Performance['debt_to_equity_ratio'] = Fact_Financial_Performance['total_liabilities'] / (Fact_Financial_Performance['total_assets'] - Fact_Financial_Performance['total_liabilities'])\n",
    "Fact_Financial_Performance['gross_margin'] = Fact_Financial_Performance['gross_profit'] / Fact_Financial_Performance['net_sales']\n",
    "Fact_Financial_Performance['operating_margin'] = Fact_Financial_Performance['ebit'] / Fact_Financial_Performance['total_revenue']\n",
    "Fact_Financial_Performance['ebitda_margin'] = Fact_Financial_Performance['ebitda'] / Fact_Financial_Performance['total_revenue']\n",
    "Fact_Financial_Performance['net_profit_margin'] = Fact_Financial_Performance['net_income'] / Fact_Financial_Performance['total_revenue']\n",
    "Fact_Financial_Performance['return_on_assets'] = Fact_Financial_Performance['net_income'] / Fact_Financial_Performance['total_assets']\n",
    "Fact_Financial_Performance['return_on_equity'] = Fact_Financial_Performance['net_income'] / (Fact_Financial_Performance['total_assets'] - Fact_Financial_Performance['total_liabilities'])\n",
    "Fact_Financial_Performance['price_to_earnings'] = Fact_Financial_Performance['market_value'] / Fact_Financial_Performance['net_income']\n",
    "Fact_Financial_Performance['price_to_sales'] = Fact_Financial_Performance['market_value'] / Fact_Financial_Performance['net_sales']\n",
    "Fact_Financial_Performance['equity_multiplier'] = Fact_Financial_Performance['total_assets'] / (Fact_Financial_Performance['total_assets'] - Fact_Financial_Performance['total_liabilities'])\n",
    "Fact_Financial_Performance['retention_ratio'] = Fact_Financial_Performance['retained_earnings'] / Fact_Financial_Performance['net_income']\n",
    "\n",
    "# Sort by company_id and date_id to ensure calculations are made in order\n",
    "Fact_Financial_Performance.sort_values(['company_id', 'date_id'], inplace=True)\n",
    "\n",
    "# Calculate Revenue Growth: percentage change in total revenue\n",
    "Fact_Financial_Performance['revenue_growth'] = Fact_Financial_Performance.groupby('company_id')['total_revenue'].pct_change() * 100\n",
    "\n",
    "# Calculate Profit Growth: percentage change in net income\n",
    "Fact_Financial_Performance['profit_growth'] = Fact_Financial_Performance.groupby('company_id')['net_income'].pct_change() * 100\n",
    "\n",
    "\n",
    "# Drop unnecessary columns\n",
    "Fact_Financial_Performance.drop(['state', 'industry', 'ownership', 'company_name', 'date', 'date_founded', 'bankrupt', 'age'], axis=1, inplace=True)\n",
    "Fact_Financial_Performance['record_id'] = range(1, len(Fact_Financial_Performance) + 1)\n",
    "\n",
    "\n",
    "# Display the updated DataFrame to ensure that revenue_growth and profit_growth are calculated\n",
    "Fact_Financial_Performance.sample(5)"
   ]
  },
  {
   "cell_type": "code",
   "execution_count": 234,
   "metadata": {},
   "outputs": [
    {
     "name": "stdout",
     "output_type": "stream",
     "text": [
      "Number of negative EBITDA values: 0\n",
      "Number of negative Total Revenue values: 0\n"
     ]
    }
   ],
   "source": [
    "#Find rows where either EBITDA or Total Revenue is negative\n",
    "negative_ebitda = us_companies[us_companies['ebitda'] < 0]\n",
    "negative_revenue = us_companies[us_companies['total_revenue'] < 0]\n",
    "\n",
    "print(f\"Number of negative EBITDA values: {len(negative_ebitda)}\")\n",
    "print(f\"Number of negative Total Revenue values: {len(negative_revenue)}\")"
   ]
  },
  {
   "cell_type": "code",
   "execution_count": 235,
   "metadata": {},
   "outputs": [
    {
     "data": {
      "text/plain": [
       "np.int64(0)"
      ]
     },
     "execution_count": 235,
     "metadata": {},
     "output_type": "execute_result"
    }
   ],
   "source": [
    "Dim_Company['company_id'].duplicated().sum()"
   ]
  },
  {
   "cell_type": "code",
   "execution_count": 236,
   "metadata": {},
   "outputs": [],
   "source": [
    "# # find out the inf and -inf values\n",
    "# Fact_Financial_Performance.replace([np.inf], max_value, inplace=True)\n",
    "# Fact_Financial_Performance.replace([-np.inf], min_value, inplace=True)\n",
    "\n"
   ]
  },
  {
   "cell_type": "code",
   "execution_count": 237,
   "metadata": {},
   "outputs": [
    {
     "data": {
      "text/plain": [
       "Index(['company_id', 'size', 'total_revenue', 'net_sales', 'gross_profit',\n",
       "       'cost_of_goods_sold', 'total_operating_expenses',\n",
       "       'depreciation_and_amortization', 'ebit', 'ebitda', 'net_income',\n",
       "       'total_assets', 'total_liabilities', 'equity', 'current_assets',\n",
       "       'total_current_liabilities', 'inventory', 'total_receivables',\n",
       "       'retained_earnings', 'market_value', 'total_long_term_debt', 'date_id',\n",
       "       'current_ratio', 'quick_ratio', 'debt_to_equity_ratio', 'gross_margin',\n",
       "       'operating_margin', 'ebitda_margin', 'net_profit_margin',\n",
       "       'return_on_assets', 'return_on_equity', 'price_to_earnings',\n",
       "       'price_to_sales', 'equity_multiplier', 'retention_ratio',\n",
       "       'revenue_growth', 'profit_growth', 'record_id'],\n",
       "      dtype='object')"
      ]
     },
     "execution_count": 237,
     "metadata": {},
     "output_type": "execute_result"
    }
   ],
   "source": [
    "Fact_Financial_Performance.columns"
   ]
  },
  {
   "cell_type": "code",
   "execution_count": 238,
   "metadata": {},
   "outputs": [],
   "source": [
    "Fact_Financial_Performance.replace([np.inf, -np.inf], np.nan, inplace=True)  # Temporarily replace inf and -inf with NaN\n",
    "Fact_Financial_Performance.dropna(inplace=True)  # Drop rows with NaN, which includes rows that had inf or -inf\n",
    "\n"
   ]
  },
  {
   "cell_type": "code",
   "execution_count": 239,
   "metadata": {},
   "outputs": [
    {
     "name": "stdout",
     "output_type": "stream",
     "text": [
      "Connection to MySQL database established successfully.\n"
     ]
    }
   ],
   "source": [
    "# MYSQL_DB = os.getenv('DATA_WAREHOUSE_DB')\n",
    "MYSQL_DB = 'frr_dw'\n",
    "# Construct the MySQL connection string\n",
    "if MYSQL_PASSWORD:\n",
    "    connection_string = f\"mysql+pymysql://{MYSQL_USERNAME}:{MYSQL_PASSWORD}@{MYSQL_HOST}:{MYSQL_PORT}/{MYSQL_DB}\"\n",
    "else:\n",
    "    connection_string = f\"mysql+pymysql://{MYSQL_USERNAME}@{MYSQL_HOST}:{MYSQL_PORT}/{MYSQL_DB}\"\n",
    "\n",
    "# Create a SQLAlchemy engine\n",
    "engine = create_engine(connection_string)\n",
    "print('Connection to MySQL database established successfully.')\n"
   ]
  },
  {
   "cell_type": "code",
   "execution_count": 240,
   "metadata": {},
   "outputs": [
    {
     "data": {
      "text/plain": [
       "(448, 9)"
      ]
     },
     "execution_count": 240,
     "metadata": {},
     "output_type": "execute_result"
    }
   ],
   "source": [
    "Dim_Company[Dim_Company['industry_id'] == 3].shape"
   ]
  },
  {
   "cell_type": "code",
   "execution_count": 241,
   "metadata": {},
   "outputs": [
    {
     "name": "stdout",
     "output_type": "stream",
     "text": [
      "Data loaded into MySQL tables successfully.\n"
     ]
    }
   ],
   "source": [
    "# Load Dim_State DataFrame into Dim_State table\n",
    "Dim_State.to_sql('dim_state', con=engine, if_exists='append', index=False)\n",
    "\n",
    "# Load Dim_Industry DataFrame into Dim_Industry table\n",
    "Dim_Industry.to_sql('dim_industry', con=engine, if_exists='append', index=False)\n",
    "\n",
    "# Load Dim_Date DataFrame into Dim_Date table\n",
    "Dim_Date.to_sql('dim_date', con=engine, if_exists='append', index=False)\n",
    "\n",
    "# Load Dim_Company DataFrame into Dim_Company table\n",
    "Dim_Company.to_sql('dim_company', con=engine, if_exists='append', index=False)\n",
    "\n",
    "# Load Fact_Financial_Performance DataFrame into Fact_Financial_Performance table\n",
    "Fact_Financial_Performance.to_sql('fact_financial_performance', con=engine, if_exists='append', index=False)\n",
    "\n",
    "print(\"Data loaded into MySQL tables successfully.\")\n",
    "engine.dispose()\n"
   ]
  },
  {
   "cell_type": "code",
   "execution_count": 242,
   "metadata": {},
   "outputs": [],
   "source": [
    "# # list the columns of all datasets\n",
    "# print('Columns of distressed companies dataset:', distressed_companies.columns)\n",
    "# print('Columns of US companies dataset:', us_companies.columns)\n",
    "# print('Columns of healthy companies dataset:', healthy_companies.columns)"
   ]
  },
  {
   "cell_type": "code",
   "execution_count": 243,
   "metadata": {},
   "outputs": [
    {
     "data": {
      "text/plain": [
       "2675"
      ]
     },
     "execution_count": 243,
     "metadata": {},
     "output_type": "execute_result"
    }
   ],
   "source": [
    "# how many records has net income between 10 and 100\n",
    "us_companies[(us_companies['net_income'] >= 10) & (us_companies['net_income'] <= 100000)].shape[0]"
   ]
  },
  {
   "cell_type": "markdown",
   "metadata": {},
   "source": [
    "'X1':'current_assets',\n",
    "    'X2':'cost_of_goods_sold',\n",
    "    'X3':'depreciation_and_amortization',\n",
    "    'X4':'ebitda',\n",
    "    'X5':'inventory',\n",
    "    'X6':'net_income',\n",
    "    'X7':'total_receivables',\n",
    "    'X8':'market_value',\n",
    "    'X9':'net_sales',\n",
    "    'X10':'total_assets',\n",
    "    'X11':'total_long_term_debt',\n",
    "    'X12':'ebit',\n",
    "    'X13':'gross_profit',\n",
    "    'X14':'total_current_liabilities',\n",
    "    'X15':'retained_earnings',\n",
    "    'X16':'total_revenue',\n",
    "    'X17':'total_liabilities',\n",
    "    'X18':'total_operating_expenses"
   ]
  },
  {
   "cell_type": "code",
   "execution_count": null,
   "metadata": {},
   "outputs": [],
   "source": []
  }
 ],
 "metadata": {
  "kernelspec": {
   "display_name": "Python 3",
   "language": "python",
   "name": "python3"
  },
  "language_info": {
   "codemirror_mode": {
    "name": "ipython",
    "version": 3
   },
   "file_extension": ".py",
   "mimetype": "text/x-python",
   "name": "python",
   "nbconvert_exporter": "python",
   "pygments_lexer": "ipython3",
   "version": "3.12.4"
  }
 },
 "nbformat": 4,
 "nbformat_minor": 2
}
